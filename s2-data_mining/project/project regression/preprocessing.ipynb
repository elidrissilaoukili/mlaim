{
 "cells": [
  {
   "cell_type": "code",
   "execution_count": 2,
   "id": "cc39a05c",
   "metadata": {},
   "outputs": [
    {
     "name": "stdout",
     "output_type": "stream",
     "text": [
      "Index(['surface', 'nb_pieces', 'age', 'quartier', 'prix'], dtype='object')\n",
      "   surface  nb_pieces  age  quartier    prix\n",
      "0      142          5   32         3  472290\n",
      "1      132          6    0         2  495843\n",
      "2       54          6   18         3  253992\n",
      "3      146          3   30         3  477561\n",
      "4      111          2   15         1  360855\n",
      "<class 'pandas.core.frame.DataFrame'>\n",
      "RangeIndex: 1000 entries, 0 to 999\n",
      "Data columns (total 5 columns):\n",
      " #   Column     Non-Null Count  Dtype\n",
      "---  ------     --------------  -----\n",
      " 0   surface    1000 non-null   int64\n",
      " 1   nb_pieces  1000 non-null   int64\n",
      " 2   age        1000 non-null   int64\n",
      " 3   quartier   1000 non-null   int64\n",
      " 4   prix       1000 non-null   int64\n",
      "dtypes: int64(5)\n",
      "memory usage: 39.2 KB\n",
      "None\n",
      "           surface    nb_pieces          age     quartier           prix\n",
      "count  1000.000000  1000.000000  1000.000000  1000.000000    1000.000000\n",
      "mean    120.968000     4.463000    24.155000     1.986000  411300.385000\n",
      "std      46.709407     1.716851    14.261499     0.834566  142727.780305\n",
      "min      40.000000     2.000000     0.000000     1.000000  104609.000000\n",
      "25%      80.750000     3.000000    12.000000     1.000000  291824.500000\n",
      "50%     123.000000     4.000000    23.000000     2.000000  414278.000000\n",
      "75%     162.000000     6.000000    36.000000     3.000000  535826.000000\n",
      "max     199.000000     7.000000    49.000000     3.000000  697928.000000\n"
     ]
    }
   ],
   "source": [
    "import pandas as pd\n",
    "\n",
    "df = pd.read_csv(\"maisons.csv\")\n",
    "\n",
    "# Afficher les noms des colonnes (caractéristiques)\n",
    "print(df.columns)\n",
    "\n",
    "# Afficher les 5 premières lignes (aperçu)\n",
    "print(df.head())\n",
    "\n",
    "# Afficher des infos générales (type, nombre valeurs nulles, etc.)\n",
    "print(df.info())\n",
    "\n",
    "# Statistiques descriptives des colonnes numériques\n",
    "print(df.describe())\n"
   ]
  }
 ],
 "metadata": {
  "kernelspec": {
   "display_name": "Python 3",
   "language": "python",
   "name": "python3"
  },
  "language_info": {
   "codemirror_mode": {
    "name": "ipython",
    "version": 3
   },
   "file_extension": ".py",
   "mimetype": "text/x-python",
   "name": "python",
   "nbconvert_exporter": "python",
   "pygments_lexer": "ipython3",
   "version": "3.13.2"
  }
 },
 "nbformat": 4,
 "nbformat_minor": 5
}
