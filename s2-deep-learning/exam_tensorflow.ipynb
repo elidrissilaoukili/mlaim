{
 "cells": [
  {
   "cell_type": "code",
   "execution_count": null,
   "id": "3cfd5c23",
   "metadata": {},
   "outputs": [],
   "source": [
    "import tensorflow as tf\n",
    "from tensorflow.keras import layers, models\n",
    "\n",
    "model = models.Sequential([\n",
    "    layers.Conv2D(32, (3, 3), activation='relu', input_shape=(32, 32, 3)),\n",
    "    layers.MaxPooling2D((2, 2)),\n",
    "\n",
    "    layers.Conv2D(64, (3, 3), activation='relu'),\n",
    "    layers.MaxPooling2D((2, 2)),\n",
    "\n",
    "    layers.Conv2D(128, (3, 3), activation='relu'),\n",
    "    layers.MaxPooling2D((2, 2)),\n",
    "\n",
    "    layers.Flatten(),\n",
    "    layers.Dense(128, activation='relu'),\n",
    "    layers.Dense(10, activation='softmax')\n",
    "])\n",
    "\n",
    "model.compile(optimizer='adam',\n",
    "              loss='sparse_categorical_crossentropy',\n",
    "              metrics=['accuracy'])\n",
    "model.summary()\n"
   ]
  },
  {
   "cell_type": "code",
   "execution_count": null,
   "id": "f680df71",
   "metadata": {},
   "outputs": [],
   "source": [
    "import pandas as pd\n",
    "import numpy as np\n",
    "from tensorflow.keras.models import Sequential\n",
    "from tensorflow.keras.layers import LSTM, Dense\n",
    "from sklearn.preprocessing import MinMaxScaler\n",
    "\n",
    "# Charger les données\n",
    "df = pd.read_csv(\"Données.csv\")\n",
    "data = df[['Température', 'Pression', 'Humidité']].values\n",
    "\n",
    "# Normalisation\n",
    "scaler = MinMaxScaler()\n",
    "data = scaler.fit_transform(data)\n",
    "\n",
    "# Création des séquences\n",
    "X, y = [], []\n",
    "sequence_length = 24  # par exemple, 24 heures\n",
    "for i in range(len(data) - sequence_length):\n",
    "    X.append(data[i:i+sequence_length])\n",
    "    y.append(data[i+sequence_length][0])  # prédire température (index 0)\n",
    "\n",
    "X, y = np.array(X), np.array(y)\n",
    "\n",
    "# Définition du modèle\n",
    "model = Sequential()\n",
    "model.add(LSTM(64, input_shape=(X.shape[1], X.shape[2])))\n",
    "model.add(Dense(1))  # prédire température\n",
    "\n",
    "model.compile(optimizer='adam', loss='mse')\n",
    "model.fit(X, y, epochs=10, batch_size=32)\n",
    "\n",
    "# Prédiction\n",
    "predicted = model.predict(X)\n"
   ]
  }
 ],
 "metadata": {
  "kernelspec": {
   "display_name": "base",
   "language": "python",
   "name": "python3"
  },
  "language_info": {
   "name": "python",
   "version": "3.12.7"
  }
 },
 "nbformat": 4,
 "nbformat_minor": 5
}
