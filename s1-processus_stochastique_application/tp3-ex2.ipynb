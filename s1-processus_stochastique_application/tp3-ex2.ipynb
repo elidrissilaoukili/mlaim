{
 "cells": [
  {
   "cell_type": "code",
   "execution_count": 2,
   "id": "eb78e8d2-365d-4942-ac71-37d050ea217d",
   "metadata": {},
   "outputs": [
    {
     "name": "stdout",
     "output_type": "stream",
     "text": [
      "0.2\n"
     ]
    }
   ],
   "source": [
    "import numpy as np\n",
    "c=0\n",
    "for i in range(100):\n",
    "    d1=np.random.randint(1,6)\n",
    "    d2=np.random.randint(1,6) \n",
    "    if  d1+d2==6: \n",
    "        c=c+1\n",
    "print(c/100)"
   ]
  },
  {
   "cell_type": "code",
   "execution_count": null,
   "id": "babc9961-fd49-4f28-b23b-d925cee2e9cb",
   "metadata": {},
   "outputs": [],
   "source": [
    "import numpy as np\n",
    "c=0\n",
    "n=int(input(\"nbre de lancer?\"))           # l’utilisateur choisit le nombre de lancers\n",
    "for i in range(n):                                  # i varie de 0 à n-1, donc il y aura n étapes\n",
    "    d1=np.random.randint(1,6)             # randint génère un nombre aléatoire entier\n",
    "    d2=np.random.randint(1,6) \n",
    "    if  d1+d2==6:                          \n",
    "        c=c+1                                          # quand la somme vaut 12, S augmente de 1\n",
    "print(c/n)"
   ]
  }
 ],
 "metadata": {
  "kernelspec": {
   "display_name": "Python 3 (ipykernel)",
   "language": "python",
   "name": "python3"
  },
  "language_info": {
   "codemirror_mode": {
    "name": "ipython",
    "version": 3
   },
   "file_extension": ".py",
   "mimetype": "text/x-python",
   "name": "python",
   "nbconvert_exporter": "python",
   "pygments_lexer": "ipython3",
   "version": "3.12.7"
  }
 },
 "nbformat": 4,
 "nbformat_minor": 5
}
