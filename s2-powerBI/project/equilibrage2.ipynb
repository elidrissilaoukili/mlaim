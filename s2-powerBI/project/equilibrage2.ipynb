{
 "cells": [
  {
   "cell_type": "markdown",
   "id": "6b9f452c",
   "metadata": {},
   "source": [
    "# Class Imbalance Problem"
   ]
  },
  {
   "cell_type": "code",
   "execution_count": null,
   "id": "ea0b057b",
   "metadata": {},
   "outputs": [],
   "source": [
    "# Importing function to split data into training and testing sets\n",
    "from sklearn.model_selection import train_test_split\n",
    "\n",
    "# Importing Logistic Regression model for binary or multi-class classification\n",
    "from sklearn.linear_model import LogisticRegression\n",
    "\n",
    "# Importing Random Forest classifier, an ensemble learning method for classification\n",
    "from sklearn.ensemble import RandomForestClassifier\n",
    "\n",
    "# Importing evaluation metrics for classification tasks:\n",
    "# - classification_report: Generates a summary of precision, recall, F1-score, etc.\n",
    "# - confusion_matrix: Computes a confusion matrix to evaluate the classification results.\n",
    "# - precision_recall_curve: Computes the precision-recall curve, useful for imbalanced datasets.\n",
    "# - average_precision_score: Computes the average precision score, also useful for imbalanced datasets.\n",
    "from sklearn.metrics import (classification_report, confusion_matrix, precision_recall_curve, average_precision_score)\n",
    "\n",
    "# Importing SMOTE (Synthetic Minority Over-sampling Technique) for handling imbalanced datasets by oversampling the minority class\n",
    "from imblearn.over_sampling import SMOTE\n",
    "\n",
    "# Importing RandomUnderSampler for handling imbalanced datasets by undersampling the majority class\n",
    "from imblearn.under_sampling import RandomUnderSampler\n",
    "\n",
    "# Importing Pipeline from imbalanced-learn to create a pipeline that combines resampling and classification models\n",
    "from imblearn.pipeline import Pipeline"
   ]
  },
  {
   "cell_type": "code",
   "execution_count": null,
   "id": "3d5ee4b4",
   "metadata": {},
   "outputs": [],
   "source": [
    "import warnings\n",
    "warnings.filterwarnings('ignore')\n",
    "\n",
    "import pandas as pd\n",
    "import matplotlib.pyplot as plt\n",
    "import seaborn as sns\n",
    "import numpy as np\n",
    "\n",
    "from sklearn.model_selection import train_test_split\n",
    "from sklearn.linear_model import LogisticRegression\n",
    "from sklearn.ensemble import RandomForestClassifier\n",
    "from sklearn.metrics import (classification_report, precision_recall_curve)\n",
    "from imblearn.over_sampling import SMOTE\n",
    "from imblearn.under_sampling import RandomUnderSampler\n",
    "\n",
    "# Charger les données\n",
    "data = pd.read_csv('machine_failure_dataset.csv')"
   ]
  },
  {
   "cell_type": "markdown",
   "id": "21e27d8b",
   "metadata": {},
   "source": [
    "### Illustration of the imbalance problem"
   ]
  },
  {
   "cell_type": "code",
   "execution_count": null,
   "id": "210948fc",
   "metadata": {},
   "outputs": [],
   "source": [
    "plt.figure(figsize=(10, 5))\n",
    "data['Failure_Risk'].value_counts().plot(kind='bar', color=['skyblue', 'salmon'])\n",
    "plt.title('Distribution of the Target Variable (Failure_Risk)')\n",
    "plt.xlabel('Failure Risk')\n",
    "plt.ylabel('Number of occurrences')\n",
    "plt.xticks([0, 1], ['No Failure (0)', 'Failure (1)'], rotation=0)\n",
    "plt.grid(axis='y', linestyle='--', alpha=0.7)\n",
    "plt.show()"
   ]
  },
  {
   "cell_type": "code",
   "execution_count": null,
   "id": "c954d2e0",
   "metadata": {},
   "outputs": [],
   "source": [
    "# Data Preparation\n",
    "X = pd.get_dummies(data.drop('Failure_Risk', axis=1), columns=['Machine_Type'])\n",
    "y = data['Failure_Risk']\n",
    "\n",
    "X_train, X_test, y_train, y_test = train_test_split(X, y, test_size=0.3, random_state=42, stratify=y)\n",
    "\n",
    "# Training & Evaluating Function\n",
    "def train_evaluate_model(model, X_train, y_train, X_test, y_test):\n",
    "    model.fit(X_train, y_train)\n",
    "    y_pred = model.predict(X_test)\n",
    "    y_proba = model.predict_proba(X_test)[:,1] if hasattr(model, \"predict_proba\") else None\n",
    "    return model, y_pred, y_proba"
   ]
  },
  {
   "cell_type": "code",
   "execution_count": null,
   "id": "5131080e",
   "metadata": {},
   "outputs": [],
   "source": [
    "# 1. Logistic Regression\n",
    "lr = LogisticRegression(max_iter=1000, random_state=42)\n",
    "lr_model, lr_pred, lr_proba = train_evaluate_model(lr, X_train, y_train, X_test, y_test)"
   ]
  },
  {
   "cell_type": "code",
   "execution_count": null,
   "id": "c24206a9",
   "metadata": {},
   "outputs": [],
   "source": [
    "fig, ax = plt.subplots(figsize=(15, 6))\n",
    "sns.histplot(lr.predict_proba(X_train)[:, 1], bins=50, ax=ax, color='red', alpha=0.5, label='Train')\n",
    "sns.histplot(lr.predict_proba(X_test)[:, 1], bins=50, ax=ax, color='green', alpha=0.5, label='Test')\n",
    "ax.set_xlim(0, 1)\n",
    "plt.title('Distribution of the predicted probabilities of Failure_Risk')"
   ]
  },
  {
   "cell_type": "code",
   "execution_count": null,
   "id": "40cffeb4",
   "metadata": {},
   "outputs": [],
   "source": [
    "# 2. Random Forest\n",
    "rf = RandomForestClassifier(random_state=42)\n",
    "rf_model, rf_pred, rf_proba = train_evaluate_model(rf, X_train, y_train, X_test, y_test)"
   ]
  },
  {
   "cell_type": "code",
   "execution_count": null,
   "id": "a244ace8",
   "metadata": {},
   "outputs": [],
   "source": [
    "fig, ax = plt.subplots(figsize=(20, 6))\n",
    "sns.histplot(rf.predict_proba(X_train)[:, 1], stat=\"percent\" , bins=50, ax=ax, color='blue', alpha=0.5, label='Train')\n",
    "sns.histplot(rf.predict_proba(X_test)[:, 1], stat=\"percent\", bins=50, ax=ax, color='orange', alpha=0.5, label='Test')\n",
    "ax.set_xlim(0, 1)\n",
    "plt.title('Distribution des probabilités prédites de Failure_Risk')"
   ]
  },
  {
   "cell_type": "markdown",
   "id": "de55b32d",
   "metadata": {},
   "source": [
    "### Techniques au Moment de l'Entraînement (Training Time Techniques)\n",
    "#### 1. Random Under-Sampling"
   ]
  },
  {
   "cell_type": "code",
   "execution_count": null,
   "id": "02addbb2",
   "metadata": {},
   "outputs": [],
   "source": [
    "# Under-Sampling\n",
    "rus = RandomUnderSampler(random_state=42)\n",
    "X_train_rus, y_train_rus = rus.fit_resample(X_train, y_train)\n",
    "\n",
    "print(\"\\n=== Random Forest avec Under-Sampling ===\")\n",
    "rf_rus, rf_rus_pred, rf_rus_proba = train_evaluate_model(\n",
    "    RandomForestClassifier(random_state=42), \n",
    "    X_train_rus, y_train_rus, X_test, y_test\n",
    ")\n",
    "\n",
    "# Visualisation de la nouvelle distribution\n",
    "plt.figure(figsize=(6, 4))\n",
    "pd.Series(y_train_rus).value_counts().plot(kind='bar', color=['skyblue', 'salmon'])\n",
    "plt.title('Distribution après Under-Sampling')\n",
    "plt.xticks([0, 1], ['No Failure (0)', 'Failure (1)'], rotation=0)\n",
    "plt.show()"
   ]
  },
  {
   "cell_type": "markdown",
   "id": "8b61c75d",
   "metadata": {},
   "source": [
    "### 2. SMOTE"
   ]
  },
  {
   "cell_type": "code",
   "execution_count": null,
   "id": "2c610aff",
   "metadata": {},
   "outputs": [],
   "source": [
    "# SMOTE\n",
    "smote = SMOTE(random_state=42)\n",
    "X_train_smote, y_train_smote = smote.fit_resample(X_train, y_train)\n",
    "\n",
    "print(\"\\n=== Random Forest avec SMOTE ===\")\n",
    "rf_smote, rf_smote_pred, rf_smote_proba = train_evaluate_model(\n",
    "    RandomForestClassifier(random_state=42),\n",
    "    X_train_smote, y_train_smote, X_test, y_test\n",
    ")\n",
    "\n",
    "# Visualisation de la nouvelle distribution\n",
    "plt.figure(figsize=(6, 4))\n",
    "pd.Series(y_train_smote).value_counts().plot(kind='bar', color=['skyblue', 'salmon'])\n",
    "plt.title('Distribution après SMOTE')\n",
    "plt.xticks([0, 1], ['No Failure (0)', 'Failure (1)'], rotation=0)\n",
    "plt.show()"
   ]
  },
  {
   "cell_type": "markdown",
   "id": "3f51947e",
   "metadata": {},
   "source": [
    "### Technique au Moment de l'Inférence (Inference Time Technique)\n",
    "#### Precision-Recall Thresholding"
   ]
  },
  {
   "cell_type": "code",
   "execution_count": null,
   "id": "bc490fc1",
   "metadata": {},
   "outputs": [],
   "source": [
    "# Optimisation du seuil avec Precision-Recall\n",
    "def optimize_threshold(model, X_test, y_test):\n",
    "    y_proba = model.predict_proba(X_test)[:,1]\n",
    "    precision, recall, thresholds = precision_recall_curve(y_test, y_proba)\n",
    "    \n",
    "    # Trouver le seuil qui maximise F1-Score\n",
    "    f1_scores = 2 * (precision * recall) / (precision + recall + 1e-10)  # Adding a small value to avoid division by zero\n",
    "    optimal_idx = np.argmax(f1_scores)\n",
    "    optimal_threshold = thresholds[optimal_idx]\n",
    "    \n",
    "    # Visualisation\n",
    "    plt.figure(figsize=(15, 5))\n",
    "    plt.subplot(1, 2, 1)\n",
    "    plt.plot(thresholds, precision[:-1], label='Precision')\n",
    "    plt.plot(thresholds, recall[:-1], label='Recall')\n",
    "    plt.plot(thresholds, f1_scores[:-1], label='F1-Score')\n",
    "    plt.axvline(optimal_threshold, color='red', linestyle='--')\n",
    "    plt.xlabel('Threshold')\n",
    "    plt.title('Optimisation du Seuil')\n",
    "    plt.legend()\n",
    "    \n",
    "    plt.subplot(1, 2, 2)\n",
    "    plt.plot(recall, precision)\n",
    "    plt.xlabel('Recall')\n",
    "    plt.ylabel('Precision')\n",
    "    plt.title('Courbe Precision-Recall')\n",
    "    \n",
    "    plt.tight_layout()\n",
    "    plt.show()\n",
    "    \n",
    "    return optimal_threshold\n",
    "\n",
    "# Application sur le modèle SMOTE\n",
    "optimal_threshold = optimize_threshold(rf_smote, X_test, y_test)\n",
    "\n",
    "# Prédiction avec le nouveau seuil\n",
    "y_pred_optimal = (rf_smote.predict_proba(X_test)[:,1] >= optimal_threshold).astype(int)"
   ]
  },
  {
   "cell_type": "markdown",
   "id": "80555d79",
   "metadata": {},
   "source": [
    "### Comparaison Complète des Techniques"
   ]
  },
  {
   "cell_type": "code",
   "execution_count": null,
   "id": "8943a559",
   "metadata": {},
   "outputs": [],
   "source": [
    "# Préparation des données pour comparaison\n",
    "results = []\n",
    "models = {\n",
    "    'Logistic Regression': lr_model,\n",
    "    'Random Forest': rf_model,\n",
    "    'RF + UnderSampling': rf_rus,\n",
    "    'RF + SMOTE': rf_smote,\n",
    "    'RF + SMOTE + Threshold': None  # Spécial\n",
    "}\n",
    "\n",
    "for name, model in models.items():\n",
    "    if name == 'RF + SMOTE + Threshold':\n",
    "        y_pred = y_pred_optimal\n",
    "        y_proba = rf_smote.predict_proba(X_test)[:,1]\n",
    "    else:\n",
    "        y_pred = model.predict(X_test)\n",
    "        y_proba = model.predict_proba(X_test)[:,1] if hasattr(model, \"predict_proba\") else None\n",
    "    \n",
    "    report = classification_report(y_test, y_pred, output_dict=True)\n",
    "    results.append({\n",
    "        'Model': name,\n",
    "        'Precision_0': report['0']['precision'],\n",
    "        'Recall_0': report['0']['recall'],\n",
    "        'F1_0': report['0']['f1-score'],\n",
    "        'Precision_1': report['1']['precision'],\n",
    "        'Recall_1': report['1']['recall'],\n",
    "        'F1_1': report['1']['f1-score'],\n",
    "    })\n",
    "\n",
    "results_df = pd.DataFrame(results)\n",
    "\n",
    "# Visualisation comparative\n",
    "plt.figure(figsize=(15, 6))\n",
    "metrics = ['Precision_1', 'Recall_1', 'F1_1']\n",
    "x = np.arange(len(results_df))\n",
    "width = 0.2\n",
    "\n",
    "for i, metric in enumerate(metrics):\n",
    "    plt.bar(x + i*width, results_df[metric], width, label=metric)\n",
    "\n",
    "plt.xlabel('Modèles')\n",
    "plt.ylabel('Score')\n",
    "plt.title('Comparaison des Modèles (Classe 1)')\n",
    "plt.xticks(x + width*1.5, results_df['Model'])\n",
    "plt.legend()\n",
    "plt.show()"
   ]
  }
 ],
 "metadata": {
  "kernelspec": {
   "display_name": "base",
   "language": "python",
   "name": "python3"
  },
  "language_info": {
   "codemirror_mode": {
    "name": "ipython",
    "version": 3
   },
   "file_extension": ".py",
   "mimetype": "text/x-python",
   "name": "python",
   "nbconvert_exporter": "python",
   "pygments_lexer": "ipython3",
   "version": "3.12.7"
  }
 },
 "nbformat": 4,
 "nbformat_minor": 5
}
